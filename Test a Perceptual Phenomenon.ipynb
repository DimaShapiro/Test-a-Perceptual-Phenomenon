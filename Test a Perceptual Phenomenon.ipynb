{
 "cells": [
  {
   "cell_type": "markdown",
   "metadata": {},
   "source": [
    "Analyzing the Stroop Effect\n"
   ]
  },
  {
   "cell_type": "markdown",
   "metadata": {},
   "source": [
    "Independent variable is whether it is congruent words condition or incongruent words condition:\n",
    "Dependent variable is the time it took to name the ink colors.\n"
   ]
  },
  {
   "cell_type": "markdown",
   "metadata": {},
   "source": [
    "μ1 = mean time to answer correctly in the congruent words condition for population.\n",
    "μ2 = meant time to answer correctly in the incongruent words condition for population.\n",
    "Ho: It does not take more time to answer correctly in incongruent words condition. (μ1=μ2).\n",
    "Ha: It takes more time to answer correctly in the incongruent words condition. (μ1≠μ2) \n",
    "\n",
    "Concluding this test using sample data we will be able to see if there is a statistically significant\n",
    "difference to make reference about the population.\n",
    "As we are looking for the differences in means of two cases (congruent words condition and incongruent words condition) I think the good test to run would be two-sided paired T-test. Also, we need to take into account standard error and standard deviation."
   ]
  },
  {
   "cell_type": "code",
   "execution_count": 2,
   "metadata": {},
   "outputs": [
    {
     "name": "stdout",
     "output_type": "stream",
     "text": [
      "    Congruent  Incongruent\n",
      "0      12.079       19.278\n",
      "1      16.791       18.741\n",
      "2       9.564       21.214\n",
      "3       8.630       15.687\n",
      "4      14.669       22.803\n",
      "5      12.238       20.878\n",
      "6      14.692       24.572\n",
      "7       8.987       17.394\n",
      "8       9.401       20.762\n",
      "9      14.480       26.282\n",
      "10     22.328       24.524\n",
      "11     15.298       18.644\n",
      "12     15.073       17.510\n",
      "13     16.929       20.330\n",
      "14     18.200       35.255\n",
      "15     12.130       22.158\n",
      "16     18.495       25.139\n",
      "17     10.639       20.429\n",
      "18     11.344       17.425\n",
      "19     12.369       34.288\n",
      "20     12.944       23.894\n",
      "21     14.233       17.960\n",
      "22     19.710       22.058\n",
      "23     16.004       21.157\n",
      "       Congruent  Incongruent\n",
      "count  24.000000    24.000000\n",
      "mean   14.051125    22.015917\n",
      "std     3.559358     4.797057\n",
      "min     8.630000    15.687000\n",
      "25%    11.895250    18.716750\n",
      "50%    14.356500    21.017500\n",
      "75%    16.200750    24.051500\n",
      "max    22.328000    35.255000\n"
     ]
    }
   ],
   "source": [
    "import pandas as pd\n",
    "import matplotlib.pyplot as plt\n",
    "import numpy as np\n",
    "\n",
    "data = pd.read_csv('stroopdata.csv')\n",
    "data.head()\n",
    "\n",
    "print(data)\n",
    "print(data.describe())"
   ]
  },
  {
   "cell_type": "markdown",
   "metadata": {},
   "source": [
    "Measure of central tendancy: mean = 14.05 for congruent or mean = 22.02 for Incongruent. Measure of variability could be standart deviation. For congruent = 3.56 for incongruent = 4.8.(rounded to 2 decimals)\n"
   ]
  },
  {
   "cell_type": "code",
   "execution_count": 2,
   "metadata": {},
   "outputs": [
    {
     "data": {
      "image/png": "[encoded data removed]",
      "text/plain": [
       "<matplotlib.figure.Figure at 0x7f445b3c8898>"
      ]
     },
     "metadata": {},
     "output_type": "display_data"
    },
    {
     "data": {
      "image/png": "[encoded data removed]",
      "text/plain": [
       "<matplotlib.figure.Figure at 0x7f445b360d68>"
      ]
     },
     "metadata": {},
     "output_type": "display_data"
    }
   ],
   "source": [
    "import pandas as pd\n",
    "import matplotlib.pyplot as plt\n",
    "import numpy as np\n",
    "\n",
    "data = pd.read_csv('stroopdata.csv')\n",
    "data.head()\n",
    "\n",
    "plt.hist(data['Congruent'],bins=np.arange(min(data['Congruent']), max(data['Congruent']) + 2, 2))\n",
    "plt.title('Graph 1: The Histogram for Congruent Group Time')\n",
    "plt.xlabel('Congruent Group Time')\n",
    "plt.legend()\n",
    "plt.show()\n",
    "\n",
    "plt.hist(data['Incongruent'],bins=np.arange(min(data['Incongruent']), max(data['Incongruent']) + 2, 2))\n",
    "plt.title('Graph 2: The Histogram for Incongruent Group Time')\n",
    "plt.xlabel('Incongruent Group Time')\n",
    "plt.legend()\n",
    "plt.show()\n"
   ]
  },
  {
   "cell_type": "markdown",
   "metadata": {},
   "source": [
    "By visualizing answer times with histogram it denostrates that Incongruent group time is much higher. "
   ]
  },
  {
   "cell_type": "code",
   "execution_count": 1,
   "metadata": {},
   "outputs": [
    {
     "name": "stdout",
     "output_type": "stream",
     "text": [
      "Ttest_relResult(statistic=-8.020706944109957, pvalue=4.1030005857111781e-08)\n"
     ]
    }
   ],
   "source": [
    "import pandas as pd\n",
    "import scipy.stats as stats\n",
    "\n",
    "data = pd.read_csv('stroopdata.csv')\n",
    "\n",
    "Con = data['Congruent'].values.tolist()\n",
    "Incon = data['Incongruent'].values.tolist()\n",
    "\n",
    "print(stats.ttest_rel(Con, Incon, axis=0, nan_policy='propagate'))\n"
   ]
  },
  {
   "cell_type": "markdown",
   "metadata": {},
   "source": [
    "As we get t-statistic = to 8.02 which much higher than critical value at 95% confidance level which means we can reject the null hypotnesis. It wollow that it takes more time to answer correctly in the incongruent words condition. It fully meets my expectation as it is clear that under the Incongruent condition it takes much longer to get the color right."
   ]
  },
  {
   "cell_type": "markdown",
   "metadata": {},
   "source": [
    "I think human's sense is responsible for the effects observed. It just the way we use to process information about colors we observe. \n",
    "\n",
    "Other tests that can provide such observation could be developed for people speaking several languages. Asking them to translate words from one language to another changing the language each time. "
   ]
  }
 ],
 "metadata": {
  "kernelspec": {
   "display_name": "Python 3",
   "language": "python",
   "name": "python3"
  },
  "language_info": {
   "codemirror_mode": {
    "name": "ipython",
    "version": 3
   },
   "file_extension": ".py",
   "mimetype": "text/x-python",
   "name": "python",
   "nbconvert_exporter": "python",
   "pygments_lexer": "ipython3",
   "version": "3.6.6"
  }
 },
 "nbformat": 4,
 "nbformat_minor": 2
}
